{
 "cells": [
  {
   "cell_type": "code",
   "execution_count": 15,
   "metadata": {},
   "outputs": [],
   "source": [
    "import pyautogui\n",
    "import time\n",
    "import pandas\n",
    "import pyperclip\n",
    "import sys"
   ]
  },
  {
   "cell_type": "code",
   "execution_count": null,
   "metadata": {},
   "outputs": [],
   "source": [
    "#Entrando no sistema\n",
    "\n",
    "pyautogui.PAUSE = 0.6\n",
    "pyautogui.click(x=868, y=590)\n",
    "pyautogui.press(\"esc\", presses = 2)\n",
    "pyautogui.click(x=35, y=136)\n",
    "time.sleep(0.5)\n",
    "pyautogui.click(x=1835, y=785)\n",
    "pyautogui.press(\"c\")\n",
    "pyautogui.press(\"k\")\n",
    "pyautogui.press(\"tab\")\n",
    "dtype_dict= {'chapa': str,\"QTDE\": str, 'fitac1': str,'fitac2': str,'fital1': str,'fital2': str,'COMP': str,'LARG': str,'ESP': str,'Lado pintado': str,'Lado colado C': str,'Lado colado L': str,'QTDE PINTURA EXTERNA': str,'QTDE PINTURA INTERNA': str,'Valor externo': str,'Valor interno': str}\n",
    "tabela = pandas.read_excel(\"Criação do zero.xlsx\", sheet_name=\"Estrutura\", dtype=dtype_dict)\n",
    "print(tabela)\n",
    "pyautogui.write(str(tabela.at[2, 'vol']))\n",
    "pyautogui.press(\"enter\")\n",
    "pyautogui.press(\"C\")\n",
    "pyautogui.press(\"tab\")\n",
    "\n",
    "\n",
    "\n",
    "\n",
    "\n"
   ]
  },
  {
   "cell_type": "code",
   "execution_count": null,
   "metadata": {},
   "outputs": [],
   "source": [
    "dtype_dict= {'chapa': str,'novo': str, \"QTDE\": str, 'fitac1': str,'fitac2': str,'fital1': str,'fital2': str,'COMP': str,'LARG': str,'ESP': str,'Lado pintado': str,'Lado colado C': str,'Lado colado L': str,'QTDE PINTURA EXTERNA': str,'QTDE PINTURA INTERNA': str,'Valor externo': str,'Valor interno': str}\n",
    "tabela = pandas.read_excel(\"Criação do zero.xlsx\", sheet_name=\"Filtragem\", dtype=dtype_dict)\n",
    "print(tabela)\n",
    "\n",
    "for linha in tabela.index:\n",
    "    pyautogui.write(tabela.loc[linha, \"novo\"])\n",
    "    pyautogui.press(\"tab\")\n",
    "    pyautogui.write(tabela.loc[linha, \"QTDE\"])\n",
    "    pyautogui.press(\"tab\")\n",
    "    pyautogui.press(\"enter\")\n",
    "    pyautogui.press(\"tab\")\n",
    "\n",
    "pyautogui.click(x=1835, y=785)\n",
    "time.sleep(0.5)\n",
    "pyautogui.press(\"esc\")\n",
    "\n",
    "\n"
   ]
  },
  {
   "cell_type": "code",
   "execution_count": null,
   "metadata": {},
   "outputs": [],
   "source": [
    "pyautogui.click(x=1835, y=785)\n",
    "pyautogui.click(x=273, y=73)\n",
    "pyautogui.press(\"a\")\n",
    "pyautogui.press(\"p\")\n",
    "pyautogui.press(\"tab\")\n",
    "tabela = pandas.read_excel(\"Criação do zero.xlsx\", sheet_name=\"Estrutura\", dtype=dtype_dict)\n",
    "print(tabela)\n",
    "pyautogui.write(str(tabela.at[1, 'CODIGO']))\n",
    "pyautogui.press(\"tab\")\n",
    "pyautogui.write(\"ca\")\n",
    "pyautogui.press(\"tab\")\n",
    "pyautogui.write(str(tabela.at[2, 'vol']))\n",
    "pyautogui.press(\"tab\")\n",
    "pyautogui.write(\"1\")\n",
    "pyautogui.press(\"enter\", presses = 2)\n",
    "pyautogui.click(x=1835, y=785)"
   ]
  }
 ],
 "metadata": {
  "kernelspec": {
   "display_name": "base",
   "language": "python",
   "name": "python3"
  },
  "language_info": {
   "codemirror_mode": {
    "name": "ipython",
    "version": 3
   },
   "file_extension": ".py",
   "mimetype": "text/x-python",
   "name": "python",
   "nbconvert_exporter": "python",
   "pygments_lexer": "ipython3",
   "version": "3.11.5"
  }
 },
 "nbformat": 4,
 "nbformat_minor": 2
}
