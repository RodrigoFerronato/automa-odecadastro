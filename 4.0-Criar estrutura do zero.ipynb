{
 "cells": [
  {
   "cell_type": "code",
   "execution_count": 1,
   "metadata": {},
   "outputs": [],
   "source": [
    "import pyautogui\n",
    "import time\n",
    "import pandas\n",
    "import pyperclip\n",
    "import sys"
   ]
  },
  {
   "cell_type": "code",
   "execution_count": 2,
   "metadata": {},
   "outputs": [
    {
     "ename": "FailSafeException",
     "evalue": "PyAutoGUI fail-safe triggered from mouse moving to a corner of the screen. To disable this fail-safe, set pyautogui.FAILSAFE to False. DISABLING FAIL-SAFE IS NOT RECOMMENDED.",
     "output_type": "error",
     "traceback": [
      "\u001b[1;31m---------------------------------------------------------------------------\u001b[0m",
      "\u001b[1;31mFailSafeException\u001b[0m                         Traceback (most recent call last)",
      "Cell \u001b[1;32mIn[2], line 6\u001b[0m\n\u001b[0;32m      4\u001b[0m pyautogui\u001b[38;5;241m.\u001b[39mclick(x\u001b[38;5;241m=\u001b[39m\u001b[38;5;241m868\u001b[39m, y\u001b[38;5;241m=\u001b[39m\u001b[38;5;241m590\u001b[39m)\n\u001b[0;32m      5\u001b[0m pyautogui\u001b[38;5;241m.\u001b[39mpress(\u001b[38;5;124m\"\u001b[39m\u001b[38;5;124mesc\u001b[39m\u001b[38;5;124m\"\u001b[39m, presses \u001b[38;5;241m=\u001b[39m \u001b[38;5;241m2\u001b[39m)\n\u001b[1;32m----> 6\u001b[0m pyautogui\u001b[38;5;241m.\u001b[39mclick(x\u001b[38;5;241m=\u001b[39m\u001b[38;5;241m35\u001b[39m, y\u001b[38;5;241m=\u001b[39m\u001b[38;5;241m136\u001b[39m)\n\u001b[0;32m      7\u001b[0m time\u001b[38;5;241m.\u001b[39msleep(\u001b[38;5;241m0.5\u001b[39m)\n\u001b[0;32m      8\u001b[0m pyautogui\u001b[38;5;241m.\u001b[39mclick(x\u001b[38;5;241m=\u001b[39m\u001b[38;5;241m1835\u001b[39m, y\u001b[38;5;241m=\u001b[39m\u001b[38;5;241m785\u001b[39m)\n",
      "File \u001b[1;32mc:\\Users\\rodrigo\\AppData\\Local\\anaconda3\\Lib\\site-packages\\pyautogui\\__init__.py:593\u001b[0m, in \u001b[0;36m_genericPyAutoGUIChecks.<locals>.wrapper\u001b[1;34m(*args, **kwargs)\u001b[0m\n\u001b[0;32m    591\u001b[0m \u001b[38;5;129m@functools\u001b[39m\u001b[38;5;241m.\u001b[39mwraps(wrappedFunction)\n\u001b[0;32m    592\u001b[0m \u001b[38;5;28;01mdef\u001b[39;00m \u001b[38;5;21mwrapper\u001b[39m(\u001b[38;5;241m*\u001b[39margs, \u001b[38;5;241m*\u001b[39m\u001b[38;5;241m*\u001b[39mkwargs):\n\u001b[1;32m--> 593\u001b[0m     failSafeCheck()\n\u001b[0;32m    594\u001b[0m     returnVal \u001b[38;5;241m=\u001b[39m wrappedFunction(\u001b[38;5;241m*\u001b[39margs, \u001b[38;5;241m*\u001b[39m\u001b[38;5;241m*\u001b[39mkwargs)\n\u001b[0;32m    595\u001b[0m     _handlePause(kwargs\u001b[38;5;241m.\u001b[39mget(\u001b[38;5;124m\"\u001b[39m\u001b[38;5;124m_pause\u001b[39m\u001b[38;5;124m\"\u001b[39m, \u001b[38;5;28;01mTrue\u001b[39;00m))\n",
      "File \u001b[1;32mc:\\Users\\rodrigo\\AppData\\Local\\anaconda3\\Lib\\site-packages\\pyautogui\\__init__.py:1734\u001b[0m, in \u001b[0;36mfailSafeCheck\u001b[1;34m()\u001b[0m\n\u001b[0;32m   1732\u001b[0m \u001b[38;5;28;01mdef\u001b[39;00m \u001b[38;5;21mfailSafeCheck\u001b[39m():\n\u001b[0;32m   1733\u001b[0m     \u001b[38;5;28;01mif\u001b[39;00m FAILSAFE \u001b[38;5;129;01mand\u001b[39;00m \u001b[38;5;28mtuple\u001b[39m(position()) \u001b[38;5;129;01min\u001b[39;00m FAILSAFE_POINTS:\n\u001b[1;32m-> 1734\u001b[0m         \u001b[38;5;28;01mraise\u001b[39;00m FailSafeException(\n\u001b[0;32m   1735\u001b[0m             \u001b[38;5;124m\"\u001b[39m\u001b[38;5;124mPyAutoGUI fail-safe triggered from mouse moving to a corner of the screen. To disable this fail-safe, set pyautogui.FAILSAFE to False. DISABLING FAIL-SAFE IS NOT RECOMMENDED.\u001b[39m\u001b[38;5;124m\"\u001b[39m\n\u001b[0;32m   1736\u001b[0m         )\n",
      "\u001b[1;31mFailSafeException\u001b[0m: PyAutoGUI fail-safe triggered from mouse moving to a corner of the screen. To disable this fail-safe, set pyautogui.FAILSAFE to False. DISABLING FAIL-SAFE IS NOT RECOMMENDED."
     ]
    }
   ],
   "source": [
    "#Entrando no sistema\n",
    "\n",
    "pyautogui.PAUSE = 0.6\n",
    "pyautogui.click(x=868, y=590)\n",
    "pyautogui.press(\"esc\", presses = 2)\n",
    "pyautogui.click(x=35, y=136)\n",
    "time.sleep(0.5)\n",
    "pyautogui.click(x=1835, y=785)\n",
    "pyautogui.press(\"c\")\n",
    "pyautogui.press(\"tab\")\n",
    "dtype_dict= {'chapa': str,\"QTDE\": str, 'fitac1': str,'fitac2': str,'fital1': str,'fital2': str,'COMP': str,'LARG': str,'ESP': str,'Lado pintado': str,'Lado colado C': str,'Lado colado L': str,'QTDE PINTURA EXTERNA': str,'QTDE PINTURA INTERNA': str,'Valor externo': str,'Valor interno': str}\n",
    "tabela = pandas.read_excel(\"Criação do zero.xlsx\", sheet_name=\"Estrutura\", dtype=dtype_dict)\n",
    "print(tabela)\n",
    "pyautogui.write(str(tabela.at[2, 'vol']))\n",
    "pyautogui.press(\"enter\")\n",
    "pyautogui.press(\"tab\")\n",
    "\n",
    "\n",
    "\n",
    "\n",
    "\n"
   ]
  },
  {
   "cell_type": "code",
   "execution_count": null,
   "metadata": {},
   "outputs": [],
   "source": [
    "#Leitura do banco de dados\n",
    "dtype_dict= {'chapa': str,\"QTDE\": str, 'fitac1': str,'fitac2': str,'fital1': str,'fital2': str,'COMP': str,'LARG': str,'ESP': str,'Lado pintado': str,'Lado colado C': str,'Lado colado L': str,'QTDE PINTURA EXTERNA': str,'QTDE PINTURA INTERNA': str,'Valor externo': str,'Valor interno': str}\n",
    "tabela = pandas.read_excel(\"Criação do zero.xlsx\", sheet_name=\"Filtragem\", dtype=dtype_dict)\n",
    "print(tabela)\n",
    "\n",
    "#Looping de preenchimento\n",
    "for linha in tabela.index:\n",
    "    pyautogui.write(tabela.loc[linha, \"novo\"])\n",
    "    pyautogui.press(\"tab\")\n",
    "    pyautogui.write(tabela.loc[linha, \"QTDE\"])\n",
    "    pyautogui.press(\"tab\")\n",
    "    pyautogui.press(\"enter\")\n",
    "    pyautogui.press(\"tab\")\n",
    "\n",
    "pyautogui.click(x=1835, y=785)\n",
    "time.sleep(0.5)\n",
    "pyautogui.press(\"esc\")\n",
    "\n",
    "\n"
   ]
  },
  {
   "cell_type": "code",
   "execution_count": null,
   "metadata": {},
   "outputs": [],
   "source": [
    "pyautogui.click(x=1835, y=785)\n",
    "pyautogui.press(\"c\")\n",
    "pyautogui.press(\"p\")\n",
    "pyautogui.press(\"tab\")\n",
    "tabela = pandas.read_excel(\"Criação do zero.xlsx\", sheet_name=\"Estrutura\", dtype=dtype_dict)\n",
    "print(tabela)\n",
    "pyautogui.write(str(tabela.at[1, 'CODIGO']))\n",
    "pyautogui.press(\"tab\")\n",
    "pyautogui.write(\"ca\")\n",
    "pyautogui.press(\"tab\")\n",
    "pyautogui.write(str(tabela.at[2, 'vol']))\n",
    "pyautogui.press(\"tab\")\n",
    "pyautogui.write(\"1\")\n",
    "pyautogui.press(\"enter\", presses = 2)\n",
    "pyautogui.click(x=1835, y=785)"
   ]
  }
 ],
 "metadata": {
  "kernelspec": {
   "display_name": "base",
   "language": "python",
   "name": "python3"
  },
  "language_info": {
   "codemirror_mode": {
    "name": "ipython",
    "version": 3
   },
   "file_extension": ".py",
   "mimetype": "text/x-python",
   "name": "python",
   "nbconvert_exporter": "python",
   "pygments_lexer": "ipython3",
   "version": "3.11.5"
  }
 },
 "nbformat": 4,
 "nbformat_minor": 2
}
